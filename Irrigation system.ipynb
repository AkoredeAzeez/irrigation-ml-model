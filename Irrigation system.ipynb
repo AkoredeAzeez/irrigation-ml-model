{
 "cells": [
  {
   "cell_type": "code",
   "execution_count": 1,
   "id": "9533dfab-27d2-4f05-8d2a-1100dec03b42",
   "metadata": {},
   "outputs": [
    {
     "name": "stdout",
     "output_type": "stream",
     "text": [
      "<class 'pandas.core.frame.DataFrame'>\n",
      "RangeIndex: 1380 entries, 0 to 1379\n",
      "Data columns (total 7 columns):\n",
      " #   Column                      Non-Null Count  Dtype  \n",
      "---  ------                      --------------  -----  \n",
      " 0   crop                        1380 non-null   object \n",
      " 1   season                      1380 non-null   object \n",
      " 2   altitude                    1380 non-null   object \n",
      " 3   soil_type                   1380 non-null   object \n",
      " 4   water_requirement_mm_day    1380 non-null   int64  \n",
      " 5   irrigation_strategy         1380 non-null   object \n",
      " 6   total_water_requirement_m3  1380 non-null   float64\n",
      "dtypes: float64(1), int64(1), object(5)\n",
      "memory usage: 75.6+ KB\n"
     ]
    },
    {
     "data": {
      "text/plain": [
       "(None,\n",
       "     crop season altitude soil_type  water_requirement_mm_day  \\\n",
       " 0  Maize    dry      low     sandy                       850   \n",
       " 1  Maize    dry      low     loamy                       850   \n",
       " 2  Maize    dry      low      clay                       850   \n",
       " 3  Maize    dry      low     silty                       850   \n",
       " 4  Maize    dry      low     peaty                       850   \n",
       " \n",
       "                              irrigation_strategy  total_water_requirement_m3  \n",
       " 0                    Drip irrigation or rain-fed                   8500000.0  \n",
       " 1            Sprinkler irrigation or combination                   8500000.0  \n",
       " 2  Flood irrigation or high-frequency sprinklers                   8500000.0  \n",
       " 3            Sprinkler irrigation or combination                   8500000.0  \n",
       " 4  Flood irrigation or high-frequency sprinklers                   8500000.0  )"
      ]
     },
     "execution_count": 1,
     "metadata": {},
     "output_type": "execute_result"
    }
   ],
   "source": [
    "import pandas as pd\n",
    "\n",
    "# Load the dataset\n",
    "file_path = \"C:\\\\Users\\\\AKOS\\\\Downloads\\\\irrigation_strategy_with_soil_type.csv\"\n",
    "df = pd.read_csv(file_path)\n",
    "\n",
    "# Display basic info and the first few rows\n",
    "df.info(), df.head()\n",
    "\n"
   ]
  },
  {
   "cell_type": "code",
   "execution_count": 2,
   "id": "8a312b74-81aa-4a89-a125-46f53e1e65e4",
   "metadata": {},
   "outputs": [
    {
     "data": {
      "text/plain": [
       "((1104, 4), (276, 4), (1104,), (276,), (1104, 4), (276, 4), (1104,), (276,))"
      ]
     },
     "execution_count": 2,
     "metadata": {},
     "output_type": "execute_result"
    }
   ],
   "source": [
    "from sklearn.model_selection import train_test_split\n",
    "from sklearn.preprocessing import LabelEncoder\n",
    "\n",
    "# Encode categorical variables\n",
    "categorical_cols = [\"crop\", \"season\", \"altitude\", \"soil_type\"]\n",
    "label_encoders = {col: LabelEncoder() for col in categorical_cols}\n",
    "\n",
    "for col in categorical_cols:\n",
    "    df[col] = label_encoders[col].fit_transform(df[col])\n",
    "\n",
    "# Encode target variable for classification (irrigation_strategy)\n",
    "label_encoder_strategy = LabelEncoder()\n",
    "df[\"irrigation_strategy\"] = label_encoder_strategy.fit_transform(df[\"irrigation_strategy\"])\n",
    "\n",
    "# Define features and targets\n",
    "X = df.drop(columns=[\"irrigation_strategy\", \"total_water_requirement_m3\",\"water_requirement_mm_day\"])\n",
    "y_classification = df[\"irrigation_strategy\"]\n",
    "y_regression = df[\"water_requirement_mm_day\"]\n",
    "\n",
    "# Split into train and test sets (80% train, 20% test)\n",
    "X_train_class, X_test_class, y_train_class, y_test_class = train_test_split(X, y_classification, test_size=0.2, random_state=42)\n",
    "X_train_reg, X_test_reg, y_train_reg, y_test_reg = train_test_split(X, y_regression, test_size=0.2, random_state=42)\n",
    "\n",
    "# Check dataset shapes\n",
    "X_train_class.shape, X_test_class.shape, y_train_class.shape, y_test_class.shape, X_train_reg.shape, X_test_reg.shape, y_train_reg.shape, y_test_reg.shape\n"
   ]
  },
  {
   "cell_type": "code",
   "execution_count": null,
   "id": "50f28cc3-8e0d-41b7-b422-831a66c8171a",
   "metadata": {},
   "outputs": [],
   "source": [
    "import sys\n",
    "print(sys.executable)\n"
   ]
  },
  {
   "cell_type": "code",
   "execution_count": 3,
   "id": "ba6f2479-f634-4835-867f-872b455319fe",
   "metadata": {},
   "outputs": [
    {
     "data": {
      "text/plain": [
       "(1.0, 0.0, 0.0)"
      ]
     },
     "execution_count": 3,
     "metadata": {},
     "output_type": "execute_result"
    }
   ],
   "source": [
    "from sklearn.ensemble import RandomForestClassifier, RandomForestRegressor\n",
    "from sklearn.metrics import accuracy_score, mean_absolute_error, mean_squared_error\n",
    "import numpy as np\n",
    "\n",
    "# Train Random Forest Classifier\n",
    "clf = RandomForestClassifier(n_estimators=100, random_state=42)\n",
    "clf.fit(X_train_class, y_train_class)\n",
    "y_pred_class = clf.predict(X_test_class)\n",
    "classification_accuracy = accuracy_score(y_test_class, y_pred_class)\n",
    "\n",
    "# Train Random Forest Regressor\n",
    "reg = RandomForestRegressor(n_estimators=100, random_state=42)\n",
    "reg.fit(X_train_reg, y_train_reg)\n",
    "y_pred_reg = reg.predict(X_test_reg)\n",
    "regression_mae = mean_absolute_error(y_test_reg, y_pred_reg)\n",
    "regression_rmse = np.sqrt(mean_squared_error(y_test_reg, y_pred_reg))\n",
    "\n",
    "\n",
    "# Return model evaluation metrics\n",
    "classification_accuracy, regression_mae, regression_rmse\n"
   ]
  },
  {
   "cell_type": "code",
   "execution_count": 4,
   "id": "a3e268bb-7b35-4250-9187-0905a72e67ad",
   "metadata": {},
   "outputs": [
    {
     "name": "stdout",
     "output_type": "stream",
     "text": [
      "\n",
      "Available Crop: ['Avocado', 'Banana', 'Barley', 'Beans', 'Cabbage', 'Carrots', 'Cassava', 'Chili Peppers', 'Coffee', 'Cotton', 'Cucumber', 'Eggplant', 'Ginger', 'Green Grams', 'Green Peppers', 'Groundnuts', 'Guava', 'Irish Potatoes', 'Kale', 'Lettuce', 'Macadamia', 'Maize', 'Mango', 'Millet', 'Oats', 'Onions', 'Palm Oil', 'Papaya', 'Passion Fruit', 'Peas', 'Pineapple', 'Pyrethrum', 'Rice', 'Sorghum', 'Soybeans', 'Spinach', 'Sugarcane', 'Sunflower', 'Sweet Potatoes', 'Taro', 'Tea', 'Tomatoes', 'Tree Tomato', 'Vanilla', 'Wheat', 'Yams']\n"
     ]
    },
    {
     "name": "stdin",
     "output_type": "stream",
     "text": [
      "Enter Crop from the list above:  Banana\n"
     ]
    },
    {
     "name": "stdout",
     "output_type": "stream",
     "text": [
      "\n",
      "Available Season: ['dry', 'wet']\n"
     ]
    },
    {
     "name": "stdin",
     "output_type": "stream",
     "text": [
      "Enter Season from the list above:  dry\n"
     ]
    },
    {
     "name": "stdout",
     "output_type": "stream",
     "text": [
      "\n",
      "Available Altitude: ['high', 'low', 'mid']\n"
     ]
    },
    {
     "name": "stdin",
     "output_type": "stream",
     "text": [
      "Enter Altitude from the list above:  mid\n"
     ]
    },
    {
     "name": "stdout",
     "output_type": "stream",
     "text": [
      "\n",
      "Available Soil Type: ['clay', 'loamy', 'peaty', 'sandy', 'silty']\n"
     ]
    },
    {
     "name": "stdin",
     "output_type": "stream",
     "text": [
      "Enter Soil Type from the list above:  peaty\n"
     ]
    },
    {
     "name": "stdout",
     "output_type": "stream",
     "text": [
      "\n",
      "--- Prediction Results ---\n",
      "Selected Crop: Banana\n",
      "Selected Season: dry\n",
      "Selected Altitude: mid\n",
      "Selected Soil Type: peaty\n",
      "Predicted Irrigation Strategy: Flood irrigation or high-frequency sprinklers\n",
      "Predicted Total Water Requirement (m³): 900.00\n"
     ]
    }
   ],
   "source": [
    "import pandas as pd\n",
    "\n",
    "# Function to get user selection from available options\n",
    "def get_user_choice(options, feature_name):\n",
    "    print(f\"\\nAvailable {feature_name}: {options}\")\n",
    "    choice = input(f\"Enter {feature_name} from the list above: \").strip()\n",
    "    \n",
    "    while choice not in options:\n",
    "        print(\"Invalid choice. Please choose from the available list.\")\n",
    "        choice = input(f\"Enter {feature_name} from the list above: \").strip()\n",
    "    \n",
    "    return choice\n",
    "\n",
    "# Get all available options from the dataset\n",
    "available_crops = list(label_encoders[\"crop\"].classes_)\n",
    "available_seasons = list(label_encoders[\"season\"].classes_)\n",
    "available_altitudes = list(label_encoders[\"altitude\"].classes_)\n",
    "available_soil_types = list(label_encoders[\"soil_type\"].classes_)\n",
    "\n",
    "# Ask user for inputs\n",
    "selected_crop = get_user_choice(available_crops, \"Crop\")\n",
    "selected_season = get_user_choice(available_seasons, \"Season\")\n",
    "selected_altitude = get_user_choice(available_altitudes, \"Altitude\")\n",
    "selected_soil_type = get_user_choice(available_soil_types, \"Soil Type\")\n",
    "\n",
    "# Create a DataFrame with the selected inputs\n",
    "new_sample = pd.DataFrame({\n",
    "    \"crop\": [label_encoders[\"crop\"].transform([selected_crop])[0]],  \n",
    "    \"season\": [label_encoders[\"season\"].transform([selected_season])[0]],  \n",
    "    \"altitude\": [label_encoders[\"altitude\"].transform([selected_altitude])[0]],  \n",
    "    \"soil_type\": [label_encoders[\"soil_type\"].transform([selected_soil_type])[0]],   \n",
    "})\n",
    "\n",
    "# Predict irrigation strategy\n",
    "predicted_strategy = clf.predict(new_sample)\n",
    "predicted_strategy_label = label_encoder_strategy.inverse_transform(predicted_strategy)\n",
    "\n",
    "# Predict water requirement\n",
    "predicted_water = reg.predict(new_sample)\n",
    "\n",
    "# Display results\n",
    "print(\"\\n--- Prediction Results ---\")\n",
    "print(f\"Selected Crop: {selected_crop}\")\n",
    "print(f\"Selected Season: {selected_season}\")\n",
    "print(f\"Selected Altitude: {selected_altitude}\")\n",
    "print(f\"Selected Soil Type: {selected_soil_type}\")\n",
    "print(f\"Predicted Irrigation Strategy: {predicted_strategy_label[0]}\")\n",
    "print(f\"Predicted Total Water Requirement (m³): {predicted_water[0]:.2f}\")\n"
   ]
  },
  {
   "cell_type": "code",
   "execution_count": 6,
   "id": "8afb9222-5482-4f8c-8e96-b5342321073e",
   "metadata": {},
   "outputs": [
    {
     "name": "stdout",
     "output_type": "stream",
     "text": [
      "C:\\Users\\AKOS\n"
     ]
    },
    {
     "data": {
      "text/plain": [
       "'C:\\\\Users\\\\AKOS'"
      ]
     },
     "execution_count": 6,
     "metadata": {},
     "output_type": "execute_result"
    }
   ],
   "source": [
    "import os\n",
    "print(os.getcwd())\n",
    "\n"
   ]
  },
  {
   "cell_type": "code",
   "execution_count": null,
   "id": "36565e69-b23a-498a-81aa-3056687abcb8",
   "metadata": {},
   "outputs": [],
   "source": []
  }
 ],
 "metadata": {
  "kernelspec": {
   "display_name": "Python 3 (ipykernel)",
   "language": "python",
   "name": "python3"
  },
  "language_info": {
   "codemirror_mode": {
    "name": "ipython",
    "version": 3
   },
   "file_extension": ".py",
   "mimetype": "text/x-python",
   "name": "python",
   "nbconvert_exporter": "python",
   "pygments_lexer": "ipython3",
   "version": "3.12.2"
  }
 },
 "nbformat": 4,
 "nbformat_minor": 5
}
